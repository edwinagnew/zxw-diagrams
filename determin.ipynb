{
 "cells": [
  {
   "cell_type": "code",
   "execution_count": 1,
   "id": "993a04fb",
   "metadata": {},
   "outputs": [],
   "source": [
    "from pyfile import eval, eq\n",
    "from discopy.quantum.zx import Spider, Id\n",
    "from spiders import W, Z, Swap, H, CZ, FSwap, X, ZBox\n",
    "import numpy as np\n",
    "pi = np.pi"
   ]
  },
  {
   "cell_type": "code",
   "execution_count": 2,
   "id": "1c837e80",
   "metadata": {},
   "outputs": [
    {
     "data": {
      "text/plain": [
       "array([[ 1.+0.j,  0.+0.j],\n",
       "       [ 0.+0.j, -1.+0.j]])"
      ]
     },
     "execution_count": 2,
     "metadata": {},
     "output_type": "execute_result"
    }
   ],
   "source": [
    "eval(Z(1, 1, pi))"
   ]
  },
  {
   "cell_type": "code",
   "execution_count": 3,
   "id": "487a7fff",
   "metadata": {},
   "outputs": [
    {
     "data": {
      "image/png": "[encoded data removed]",
      "text/plain": [
       "<Figure size 432x288 with 1 Axes>"
      ]
     },
     "metadata": {},
     "output_type": "display_data"
    },
    {
     "data": {
      "image/png": "[encoded data removed]",
      "text/plain": [
       "<Figure size 432x288 with 1 Axes>"
      ]
     },
     "metadata": {},
     "output_type": "display_data"
    },
    {
     "name": "stdout",
     "output_type": "stream",
     "text": [
      "[[0.+0.j 1.+0.j]\n",
      " [1.+0.j 0.+0.j]\n",
      " [1.+0.j 0.+0.j]\n",
      " [0.+0.j 0.+0.j]]\n",
      "[[0.+0.j 0.+0.j]\n",
      " [0.+0.j 1.+0.j]\n",
      " [0.+0.j 1.+0.j]\n",
      " [1.+0.j 0.+0.j]]\n"
     ]
    }
   ],
   "source": [
    "#s = Z(1, 1, np.random.rand() * 2 * pi) # Z pushes through :)\n",
    "s = X(1, 1, 1) # X doesnt\n",
    "\n",
    "\n",
    "a = s >> W()\n",
    "b = W() >> s @ s\n",
    "a.draw(), b.draw()\n",
    "if not eq(a, b):\n",
    "    print(eval(a))\n",
    "    print(eval(b))"
   ]
  },
  {
   "cell_type": "code",
   "execution_count": 15,
   "id": "0220099e",
   "metadata": {},
   "outputs": [
    {
     "data": {
      "text/plain": [
       "array([[1.+0.j, 0.+0.j, 0.+0.j, 0.+0.j],\n",
       "       [0.+0.j, 1.+0.j, 0.+0.j, 0.+0.j],\n",
       "       [0.+0.j, 0.+0.j, 0.+0.j, 1.+0.j],\n",
       "       [0.+0.j, 0.+0.j, 1.+0.j, 0.+0.j]])"
      ]
     },
     "execution_count": 15,
     "metadata": {},
     "output_type": "execute_result"
    }
   ],
   "source": [
    "CX = Id(1) @ H >> CZ >> Id(1) @ H\n",
    "eval(CX)"
   ]
  },
  {
   "cell_type": "code",
   "execution_count": 16,
   "id": "162261ab",
   "metadata": {},
   "outputs": [
    {
     "data": {
      "text/plain": [
       "array([[1.+0.j, 0.+0.j],\n",
       "       [0.+0.j, 2.+0.j]])"
      ]
     },
     "execution_count": 16,
     "metadata": {},
     "output_type": "execute_result"
    }
   ],
   "source": [
    "eval(W() >> W(2, False))"
   ]
  },
  {
   "cell_type": "code",
   "execution_count": 14,
   "id": "c785a4d8",
   "metadata": {},
   "outputs": [
    {
     "data": {
      "text/plain": [
       "array([[ 1.+0.j,  0.+0.j],\n",
       "       [ 0.+0.j, -1.+0.j],\n",
       "       [ 0.+0.j, -1.+0.j],\n",
       "       [ 0.+0.j,  0.+0.j]])"
      ]
     },
     "execution_count": 14,
     "metadata": {},
     "output_type": "execute_result"
    }
   ],
   "source": [
    "eval(Z(1, 1, pi) >> W())"
   ]
  },
  {
   "cell_type": "code",
   "execution_count": null,
   "id": "718cfc76",
   "metadata": {},
   "outputs": [],
   "source": []
  }
 ],
 "metadata": {
  "kernelspec": {
   "display_name": "Python 3 (ipykernel)",
   "language": "python",
   "name": "python3"
  },
  "language_info": {
   "codemirror_mode": {
    "name": "ipython",
    "version": 3
   },
   "file_extension": ".py",
   "mimetype": "text/x-python",
   "name": "python",
   "nbconvert_exporter": "python",
   "pygments_lexer": "ipython3",
   "version": "3.10.6"
  }
 },
 "nbformat": 4,
 "nbformat_minor": 5
}
