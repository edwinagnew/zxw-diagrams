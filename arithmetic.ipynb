{
 "cells": [
  {
   "cell_type": "code",
   "execution_count": 1,
   "id": "crude-saskatchewan",
   "metadata": {},
   "outputs": [],
   "source": [
    "from spiders import W, ZBox, Z, Id, Swap, boxes\n",
    "from pyfile import eval, eq\n",
    "import numpy as np"
   ]
  },
  {
   "cell_type": "code",
   "execution_count": 2,
   "id": "earlier-endorsement",
   "metadata": {},
   "outputs": [],
   "source": [
    "def T(A, n):\n",
    "    # return A^n\n",
    "    if n == 1: return A\n",
    "    return A @ T(A, n-1)"
   ]
  },
  {
   "cell_type": "code",
   "execution_count": 3,
   "id": "thick-respect",
   "metadata": {},
   "outputs": [
    {
     "data": {
      "image/png": "[encoded data removed]",
      "text/plain": [
       "<Figure size 432x288 with 1 Axes>"
      ]
     },
     "metadata": {},
     "output_type": "display_data"
    }
   ],
   "source": [
    "ZBox(1, 2, 2).draw()"
   ]
  },
  {
   "cell_type": "code",
   "execution_count": 4,
   "id": "spoken-bradley",
   "metadata": {},
   "outputs": [
    {
     "data": {
      "image/png": "[encoded data removed]",
      "text/plain": [
       "<Figure size 432x288 with 1 Axes>"
      ]
     },
     "metadata": {},
     "output_type": "display_data"
    }
   ],
   "source": [
    "\n",
    "for _ in range(10):\n",
    "    a, b = np.random.rand(2) * 10\n",
    "    abox = ZBox(0, 1, a)\n",
    "    bbox = ZBox(0, 1, b)\n",
    "    addbox = abox @ bbox >> W().dagger()\n",
    "    assert eq(addbox, ZBox(0, 1, a+b))\n",
    "addbox.draw()"
   ]
  },
  {
   "cell_type": "code",
   "execution_count": null,
   "id": "moved-judge",
   "metadata": {},
   "outputs": [],
   "source": [
    "zm = Z(2, 1)\n",
    "zcm = Z(1, 2)\n",
    "for _ in range(10):\n",
    "    a, b = np.random.rand(2) * 10\n",
    "    abox = ZBox(0, 1, a)\n",
    "    bbox = ZBox(0, 1, b)\n",
    "    timesbox = abox @ bbox >> zm\n",
    "    assert eq(timesbox, ZBox(0, 1, a*b))\n",
    "timesbox.draw()"
   ]
  },
  {
   "cell_type": "code",
   "execution_count": null,
   "id": "confirmed-process",
   "metadata": {},
   "outputs": [],
   "source": []
  },
  {
   "cell_type": "code",
   "execution_count": null,
   "id": "interim-trustee",
   "metadata": {},
   "outputs": [],
   "source": [
    "\n",
    "\n",
    "box_states([0, 1, 2]).draw()"
   ]
  },
  {
   "cell_type": "markdown",
   "id": "floral-minority",
   "metadata": {},
   "source": [
    "### distrib"
   ]
  },
  {
   "cell_type": "code",
   "execution_count": null,
   "id": "german-scope",
   "metadata": {},
   "outputs": [],
   "source": [
    "s22 = W(2, False) @ W(2, False) >> Z(2, 1)\n",
    "s22.draw()"
   ]
  },
  {
   "cell_type": "code",
   "execution_count": null,
   "id": "outdoor-booking",
   "metadata": {},
   "outputs": [],
   "source": [
    "for _ in range(10):\n",
    "    nums = np.random.rand(4) * 10\n",
    "    distribbox = boxes(nums) >> s22\n",
    "    a, b, c, d = nums\n",
    "    assert eq(distribbox, ZBox(0, 1, (a + b) * (c + d)))\n",
    "distribbox.draw()"
   ]
  },
  {
   "cell_type": "code",
   "execution_count": null,
   "id": "appointed-display",
   "metadata": {},
   "outputs": [],
   "source": [
    "#fs = W(4) >> T(Z(1, 2), 4) >> Id(1) @ Swap @ Swap @ Swap @ Id(1) >> T(W(2).T(), 4) >> Id(2) @ Swap >> Id(1) @ Swap @ Id(1)\n",
    "#fs.draw()\n",
    "\n",
    "fs = Id(1) @ Swap @ Id(1) >> Id(2) @ Swap  >> T(W(2), 4) >> Id(1) @ Swap @ Swap @ Swap @ Id(1) >> T(Z(2, 1), 4) >> W(4).dagger()\n",
    "fs.draw()\n",
    "\n",
    "eq(fs, s22)\n"
   ]
  },
  {
   "cell_type": "code",
   "execution_count": null,
   "id": "packed-arkansas",
   "metadata": {},
   "outputs": [],
   "source": [
    "#ac + ad + bc + bd\n",
    "fs22 = T(zm, 4) >> W(4, False)\n",
    "fs22.draw()"
   ]
  },
  {
   "cell_type": "code",
   "execution_count": null,
   "id": "lucky-going",
   "metadata": {},
   "outputs": [],
   "source": [
    "for _ in range(10):\n",
    "    a, b, c, d = np.random.rand(4) * 10\n",
    "    abox = ZBox(0, 1, a)\n",
    "    bbox = ZBox(0, 1, b)\n",
    "    cbox = ZBox(0, 1, c)\n",
    "    dbox = ZBox(0, 1, d)\n",
    "    distribbox = abox @ bbox @ cbox @ dbox >> s22\n",
    "    distribbox2 = abox @ bbox @ cbox @ dbox >> fs\n",
    "    distribbox3 = boxes([a, c, a, d, c, b, d, b]) >> fs22\n",
    "\n",
    "    \n",
    "    assert eq(distribbox, distribbox2)\n",
    "    assert eq(distribbox2, distribbox3)\n",
    "distribbox3.draw()"
   ]
  },
  {
   "cell_type": "code",
   "execution_count": null,
   "id": "dietary-freeware",
   "metadata": {},
   "outputs": [],
   "source": [
    "copswaps = Id(1) @ Swap @ Id(1) >> Id(2) @ Swap  >> T(W(2), 4) >> Id(1) @ Swap @ Swap @ Swap @ Id(1)\n",
    "copswaps.draw()"
   ]
  },
  {
   "cell_type": "code",
   "execution_count": null,
   "id": "traditional-naples",
   "metadata": {},
   "outputs": [],
   "source": [
    "a,b,c,d = np.random.randint(0, 10, 4)\n",
    "d1 = boxes([a, b, c, d]) >> copswaps\n",
    "d2 = boxes([a, c, a, d, c, b, d, b])\n",
    "\n",
    "print(\"just swaps:\", eq(d1, d2))\n",
    "print(\"with zs:\", eq(d1 >> T(zm, 4), d2 >> T(zm, 4)))\n",
    "print(\"with w:\", eq(d1 >> T(zm, 4) >> W(4, False), d2 >> T(zm, 4) >> W(4, False)))\n"
   ]
  },
  {
   "cell_type": "code",
   "execution_count": null,
   "id": "acting-disabled",
   "metadata": {},
   "outputs": [],
   "source": [
    "(d1 >> T(zm, 4)).draw()"
   ]
  },
  {
   "cell_type": "code",
   "execution_count": null,
   "id": "sonic-fifty",
   "metadata": {},
   "outputs": [],
   "source": [
    "fs22.draw()"
   ]
  },
  {
   "cell_type": "code",
   "execution_count": null,
   "id": "stylish-copper",
   "metadata": {},
   "outputs": [],
   "source": [
    "fs.draw()"
   ]
  },
  {
   "cell_type": "code",
   "execution_count": null,
   "id": "enclosed-playback",
   "metadata": {},
   "outputs": [],
   "source": []
  },
  {
   "cell_type": "markdown",
   "id": "ea191378",
   "metadata": {},
   "source": [
    "### box copy\n",
    "\n",
    "$a\\times \\_ + a \\times \\_ = a \\times (\\_ + \\_)$"
   ]
  },
  {
   "cell_type": "code",
   "execution_count": null,
   "id": "799ca3c2",
   "metadata": {},
   "outputs": [],
   "source": [
    "from discopy.drawing import Equation\n",
    "for _ in range(10):\n",
    "    a = np.random.rand() * 10\n",
    "    a1 = W(2, False) >> ZBox(1, 1, a)\n",
    "    a2 = T(ZBox(1, 1, a), 2) >> W(2, False)\n",
    "\n",
    "    \n",
    "    assert eq(a1, a2)\n",
    "\n",
    "Equation(a1, a2).draw()"
   ]
  },
  {
   "cell_type": "code",
   "execution_count": null,
   "id": "ecdfba93",
   "metadata": {},
   "outputs": [],
   "source": []
  }
 ],
 "metadata": {
  "kernelspec": {
   "display_name": "Python 3 (ipykernel)",
   "language": "python",
   "name": "python3"
  },
  "language_info": {
   "codemirror_mode": {
    "name": "ipython",
    "version": 3
   },
   "file_extension": ".py",
   "mimetype": "text/x-python",
   "name": "python",
   "nbconvert_exporter": "python",
   "pygments_lexer": "ipython3",
   "version": "3.10.6"
  }
 },
 "nbformat": 4,
 "nbformat_minor": 5
}
