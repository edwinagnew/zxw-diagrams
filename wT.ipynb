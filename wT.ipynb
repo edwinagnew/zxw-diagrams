{
 "cells": [
  {
   "cell_type": "code",
   "execution_count": 1,
   "id": "gorgeous-convergence",
   "metadata": {},
   "outputs": [],
   "source": [
    "from pyfile import eval, eq\n",
    "from discopy.quantum.zx import Spider, Id\n",
    "from spiders import W_old, Z, Swap, H, CZ, FSwap, X\n",
    "\n",
    "import numpy as np\n",
    "pi = np.pi"
   ]
  },
  {
   "cell_type": "markdown",
   "id": "hungry-ladder",
   "metadata": {},
   "source": [
    "Understand how to bend W outputs to inputs"
   ]
  },
  {
   "cell_type": "code",
   "execution_count": 2,
   "id": "curious-longer",
   "metadata": {},
   "outputs": [
    {
     "data": {
      "image/png": "[encoded data removed]",
      "text/plain": [
       "<Figure size 432x288 with 1 Axes>"
      ]
     },
     "metadata": {},
     "output_type": "display_data"
    },
    {
     "data": {
      "text/plain": [
       "array([[0.+0.j, 0.+0.j, 1.+0.j, 0.+0.j],\n",
       "       [1.+0.j, 0.+0.j, 0.+0.j, 1.+0.j]])"
      ]
     },
     "execution_count": 2,
     "metadata": {},
     "output_type": "execute_result"
    }
   ],
   "source": [
    "w_21 = W_old() @ Id(1) >> Id(1) @ X(2, 0, 1)\n",
    "w_21.draw()\n",
    "eval(w_21)"
   ]
  },
  {
   "cell_type": "code",
   "execution_count": 3,
   "id": "adequate-marathon",
   "metadata": {},
   "outputs": [
    {
     "data": {
      "text/plain": [
       "True"
      ]
     },
     "execution_count": 3,
     "metadata": {},
     "output_type": "execute_result"
    }
   ],
   "source": [
    "eq(w_21, Swap >> w_21)"
   ]
  },
  {
   "cell_type": "code",
   "execution_count": 4,
   "id": "hired-barrier",
   "metadata": {},
   "outputs": [
    {
     "data": {
      "text/plain": [
       "array([[1., 0., 0., 1.],\n",
       "       [0., 1., 0., 0.]])"
      ]
     },
     "execution_count": 4,
     "metadata": {},
     "output_type": "execute_result"
    }
   ],
   "source": [
    "eval(W_old(2, False))"
   ]
  },
  {
   "cell_type": "code",
   "execution_count": 5,
   "id": "covered-orchestra",
   "metadata": {},
   "outputs": [
    {
     "data": {
      "image/png": "[encoded data removed]",
      "text/plain": [
       "<Figure size 432x288 with 1 Axes>"
      ]
     },
     "metadata": {},
     "output_type": "display_data"
    }
   ],
   "source": [
    "wcup = X(2, 0, 1)\n",
    "\n",
    "def cup_nest(n):\n",
    "    if n == 1:\n",
    "        return wcup\n",
    "    return Id(1) @ cup_nest(n - 1) @ Id(1) >> wcup\n",
    "\n",
    "cup_nest(3).draw()"
   ]
  },
  {
   "cell_type": "code",
   "execution_count": 6,
   "id": "accessory-square",
   "metadata": {},
   "outputs": [],
   "source": [
    "wcup = X(2, 0, 1)\n",
    "\n",
    "def W2(ins, outs, transpose=True):\n",
    "    if ins == 1:\n",
    "        return W_old(outs, transpose)\n",
    "    if ins == 0:\n",
    "        return X(0, 1, 1) >> W_old(outs, transpose)\n",
    "        \n",
    "    w = W_old(ins + outs - 1, transpose) @ Id(ins - 1) >> Id(outs) @ cup_nest(ins - 1)\n",
    "\n",
    "    return w.normal_form()\n",
    "        "
   ]
  },
  {
   "cell_type": "code",
   "execution_count": 7,
   "id": "hydraulic-brain",
   "metadata": {},
   "outputs": [
    {
     "data": {
      "image/png": "[encoded data removed]",
      "text/plain": [
       "<Figure size 432x288 with 1 Axes>"
      ]
     },
     "metadata": {},
     "output_type": "display_data"
    },
    {
     "data": {
      "text/plain": [
       "array([[0.+0.j, 0.+0.j, 0.+0.j, 0.+0.j],\n",
       "       [0.+0.j, 0.+0.j, 0.+0.j, 0.+0.j],\n",
       "       [0.+0.j, 0.+0.j, 0.+0.j, 0.+0.j],\n",
       "       [2.+0.j, 0.+0.j, 0.+0.j, 0.+0.j]])"
      ]
     },
     "execution_count": 7,
     "metadata": {},
     "output_type": "execute_result"
    }
   ],
   "source": [
    "c = W2(2, 2) >> W2(2, 2)\n",
    "c.draw()\n",
    "eval(c)"
   ]
  },
  {
   "cell_type": "code",
   "execution_count": 8,
   "id": "comfortable-tumor",
   "metadata": {},
   "outputs": [],
   "source": [
    "def wm(ins, outs):\n",
    "    # trying to guess matrix form\n",
    "    m = np.zeros((2**outs, 2**ins))\n",
    "    for i in range(2**ins - 1):\n",
    "        bi = format(i, '0' + str(ins) + 'b')\n",
    "        if bi.count('0') == 1:\n",
    "            m[0][i] = 1.0\n",
    "        \n",
    "    for j in range(outs): # all powers of 2 \n",
    "        m[2**j][-1] = 1.0\n",
    "    return m\n"
   ]
  },
  {
   "cell_type": "code",
   "execution_count": 9,
   "id": "occasional-roads",
   "metadata": {},
   "outputs": [
    {
     "data": {
      "text/plain": [
       "array([[0., 1., 1., 0.],\n",
       "       [0., 0., 0., 1.],\n",
       "       [0., 0., 0., 1.],\n",
       "       [0., 0., 0., 0.],\n",
       "       [0., 0., 0., 1.],\n",
       "       [0., 0., 0., 0.],\n",
       "       [0., 0., 0., 0.],\n",
       "       [0., 0., 0., 0.]])"
      ]
     },
     "execution_count": 9,
     "metadata": {},
     "output_type": "execute_result"
    }
   ],
   "source": [
    "wm(2, 3)"
   ]
  },
  {
   "cell_type": "code",
   "execution_count": 10,
   "id": "moral-bumper",
   "metadata": {},
   "outputs": [
    {
     "data": {
      "text/plain": [
       "array([[0., 1., 1., 0.],\n",
       "       [0., 0., 0., 1.],\n",
       "       [0., 0., 0., 1.],\n",
       "       [0., 0., 0., 0.]])"
      ]
     },
     "execution_count": 10,
     "metadata": {},
     "output_type": "execute_result"
    }
   ],
   "source": [
    "wm(2, 2)"
   ]
  },
  {
   "cell_type": "code",
   "execution_count": null,
   "id": "accurate-romantic",
   "metadata": {},
   "outputs": [],
   "source": []
  },
  {
   "cell_type": "code",
   "execution_count": 11,
   "id": "gross-organic",
   "metadata": {},
   "outputs": [
    {
     "data": {
      "image/png": "[encoded data removed]",
      "text/plain": [
       "<Figure size 432x288 with 1 Axes>"
      ]
     },
     "metadata": {},
     "output_type": "display_data"
    }
   ],
   "source": [
    "from spiders import W, eval, W_old\n",
    "\n",
    "W(2, 2).draw()"
   ]
  },
  {
   "cell_type": "code",
   "execution_count": null,
   "id": "proved-corps",
   "metadata": {},
   "outputs": [],
   "source": []
  },
  {
   "cell_type": "code",
   "execution_count": 12,
   "id": "brutal-ending",
   "metadata": {},
   "outputs": [
    {
     "data": {
      "text/plain": [
       "array([[0., 1., 1., 0.],\n",
       "       [0., 0., 0., 1.],\n",
       "       [0., 0., 0., 1.],\n",
       "       [0., 0., 0., 0.],\n",
       "       [0., 0., 0., 1.],\n",
       "       [0., 0., 0., 0.],\n",
       "       [0., 0., 0., 0.],\n",
       "       [0., 0., 0., 0.]])"
      ]
     },
     "execution_count": 12,
     "metadata": {},
     "output_type": "execute_result"
    }
   ],
   "source": [
    "eval(W(2, 3))"
   ]
  },
  {
   "cell_type": "code",
   "execution_count": 13,
   "id": "usual-grass",
   "metadata": {},
   "outputs": [
    {
     "data": {
      "image/png": "[encoded data removed]",
      "text/plain": [
       "<Figure size 432x288 with 1 Axes>"
      ]
     },
     "metadata": {},
     "output_type": "display_data"
    },
    {
     "data": {
      "text/plain": [
       "array([[0., 1., 1., 0.]])"
      ]
     },
     "execution_count": 13,
     "metadata": {},
     "output_type": "execute_result"
    }
   ],
   "source": [
    "W(2, 0).draw()\n",
    "eval(W(2, 0))\n"
   ]
  },
  {
   "cell_type": "code",
   "execution_count": 14,
   "id": "saved-intro",
   "metadata": {},
   "outputs": [
    {
     "data": {
      "image/png": "[encoded data removed]",
      "text/plain": [
       "<Figure size 432x288 with 1 Axes>"
      ]
     },
     "metadata": {},
     "output_type": "display_data"
    },
    {
     "data": {
      "text/plain": [
       "array([[1., 0.],\n",
       "       [0., 1.],\n",
       "       [0., 1.],\n",
       "       [0., 0.]])"
      ]
     },
     "execution_count": 14,
     "metadata": {},
     "output_type": "execute_result"
    }
   ],
   "source": [
    "W().draw()\n",
    "eval(W())"
   ]
  },
  {
   "cell_type": "code",
   "execution_count": 15,
   "id": "included-character",
   "metadata": {},
   "outputs": [
    {
     "data": {
      "image/png": "[encoded data removed]",
      "text/plain": [
       "<Figure size 432x288 with 1 Axes>"
      ]
     },
     "metadata": {},
     "output_type": "display_data"
    },
    {
     "data": {
      "text/plain": [
       "array([[0., 0., 0., 0., 0., 0., 0., 0.],\n",
       "       [1., 0., 0., 0., 0., 0., 0., 0.],\n",
       "       [1., 0., 0., 0., 0., 0., 0., 0.],\n",
       "       [0., 1., 1., 0., 1., 0., 0., 0.]])"
      ]
     },
     "execution_count": 15,
     "metadata": {},
     "output_type": "execute_result"
    }
   ],
   "source": [
    "a = W(3, 2, down=True)\n",
    "a.draw()\n",
    "eval(a)"
   ]
  },
  {
   "cell_type": "code",
   "execution_count": 16,
   "id": "judicial-chain",
   "metadata": {},
   "outputs": [
    {
     "data": {
      "text/plain": [
       "array([[0., 0., 0., 0., 0., 0., 0., 0.],\n",
       "       [1., 0., 0., 0., 0., 0., 0., 0.],\n",
       "       [1., 0., 0., 0., 0., 0., 0., 0.],\n",
       "       [0., 1., 1., 0., 1., 0., 0., 0.]])"
      ]
     },
     "execution_count": 16,
     "metadata": {},
     "output_type": "execute_result"
    }
   ],
   "source": [
    "wm(2, 3).transpose()"
   ]
  },
  {
   "cell_type": "code",
   "execution_count": null,
   "id": "affiliated-collins",
   "metadata": {},
   "outputs": [],
   "source": []
  }
 ],
 "metadata": {
  "kernelspec": {
   "display_name": "Python 3",
   "language": "python",
   "name": "python3"
  },
  "language_info": {
   "codemirror_mode": {
    "name": "ipython",
    "version": 3
   },
   "file_extension": ".py",
   "mimetype": "text/x-python",
   "name": "python",
   "nbconvert_exporter": "python",
   "pygments_lexer": "ipython3",
   "version": "3.8.5"
  }
 },
 "nbformat": 4,
 "nbformat_minor": 5
}
