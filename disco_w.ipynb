{
 "cells": [
  {
   "cell_type": "markdown",
   "id": "79eed660",
   "metadata": {},
   "source": [
    "## Defs\n",
    "\n",
    "Could probs move to helper file..."
   ]
  },
  {
   "cell_type": "code",
   "execution_count": 1,
   "id": "452c95c8",
   "metadata": {},
   "outputs": [],
   "source": [
    "from discopy.quantum.zx import Spider, Id\n",
    "from discopy import tensor, Tensor, Dim\n",
    "import numpy as np\n",
    "import sys\n",
    "np.set_printoptions(threshold=sys.maxsize)\n",
    "\n",
    "\n",
    "class Z2(Spider):\n",
    "    \"\"\" Z spider. \"\"\"\n",
    "    def __init__(self, n_legs_in, n_legs_out, phase=0):\n",
    "        super().__init__(n_legs_in, n_legs_out, phase, name='Z')\n",
    "        self.color = \"green\"\n",
    "\n",
    "    @property\n",
    "    def array(self):\n",
    "        n, m = len(self.dom), len(self.cod)\n",
    "        array = np.zeros(1 << (n + m), dtype=complex)\n",
    "        array[0] = 1\n",
    "        array[-1] = np.exp(1j * self.phase)\n",
    "        return Tensor(Dim(2) ** n, Dim(2) ** m, array)"
   ]
  },
  {
   "cell_type": "code",
   "execution_count": 2,
   "id": "838cc029",
   "metadata": {},
   "outputs": [],
   "source": [
    "from discopy.quantum.zx import Functor\n",
    "import tensornetwork as tn\n",
    "\n",
    "\n",
    "def f_ob(ob):\n",
    "    return Dim(2) ** len(ob)\n",
    "\n",
    "def f_ar(box):\n",
    "    return tensor.Box(box.name, f_ob(box.dom), f_ob(box.cod), box.array)\n",
    "\n",
    "f = Functor(ob=f_ob, ar=f_ar, ar_factory=tensor.Diagram)\n",
    "\n",
    "def eval(diagram):\n",
    "    d = Functor(ob=f_ob, ar=f_ar, ar_factory=tensor.Diagram)(diagram)\n",
    "    t = d.eval(contractor=tn.contractors.auto)\n",
    "    \n",
    "    n, m = len(diagram.dom), len(diagram.cod)\n",
    "    #print(n, m, \"\\n\")\n",
    "    \n",
    "    return t.array.astype(float).reshape(2**n, 2**m).transpose()\n",
    "    #return t.array.astype(float).reshape(dim, dim).transpose()"
   ]
  },
  {
   "cell_type": "code",
   "execution_count": 3,
   "id": "b78caf07",
   "metadata": {},
   "outputs": [
    {
     "data": {
      "image/png": "[encoded data removed]",
      "text/plain": [
       "<Figure size 432x288 with 1 Axes>"
      ]
     },
     "metadata": {},
     "output_type": "display_data"
    },
    {
     "name": "stderr",
     "output_type": "stream",
     "text": [
      "/tmp/ipykernel_3188299/3578117760.py:20: ComplexWarning: Casting complex values to real discards the imaginary part\n",
      "  return t.array.astype(float).reshape(2**n, 2**m).transpose()\n"
     ]
    },
    {
     "data": {
      "text/plain": [
       "array([[1., 0.],\n",
       "       [0., 0.],\n",
       "       [0., 0.],\n",
       "       [0., 1.]])"
      ]
     },
     "execution_count": 3,
     "metadata": {},
     "output_type": "execute_result"
    }
   ],
   "source": [
    "Z2(1, 2).draw()\n",
    "eval(Z2(1, 2))"
   ]
  },
  {
   "cell_type": "code",
   "execution_count": 4,
   "id": "2991dfd8",
   "metadata": {},
   "outputs": [
    {
     "data": {
      "image/png": "[encoded data removed]",
      "text/plain": [
       "<Figure size 432x288 with 1 Axes>"
      ]
     },
     "metadata": {},
     "output_type": "display_data"
    }
   ],
   "source": [
    "a = Z2(1, 2) >> Z2(1, 2) @ Id(1)\n",
    "b = Z2(1, 2) >> Id(1) @ Z2(1, 2)\n",
    "b.draw()"
   ]
  },
  {
   "cell_type": "code",
   "execution_count": 5,
   "id": "9978b61f",
   "metadata": {},
   "outputs": [
    {
     "name": "stderr",
     "output_type": "stream",
     "text": [
      "/tmp/ipykernel_3188299/3578117760.py:20: ComplexWarning: Casting complex values to real discards the imaginary part\n",
      "  return t.array.astype(float).reshape(2**n, 2**m).transpose()\n"
     ]
    },
    {
     "data": {
      "text/plain": [
       "(True, True)"
      ]
     },
     "execution_count": 5,
     "metadata": {},
     "output_type": "execute_result"
    }
   ],
   "source": [
    "(eval(a) == eval(b)).all(), (eval(b) == eval(Z2(1, 3))).all()"
   ]
  },
  {
   "cell_type": "code",
   "execution_count": 7,
   "id": "403071e9",
   "metadata": {},
   "outputs": [
    {
     "data": {
      "image/png": "[encoded data removed]",
      "text/plain": [
       "<Figure size 432x288 with 1 Axes>"
      ]
     },
     "metadata": {},
     "output_type": "display_data"
    }
   ],
   "source": [
    "def one_hots(n):\n",
    "    zeros = '0'*n\n",
    "    strings = []\n",
    "    for i in range(n):\n",
    "        strings.append('0'*i + '1' + '0'*(n-i-1))\n",
    "    return strings\n",
    "\n",
    "class W(Spider):\n",
    "    def __init__(self, n_out=2):\n",
    "        super().__init__(1, n_out) # assume 1 in for now \n",
    "        self.color = \"black\" \n",
    "        self.shape = \"triangle_up\"\n",
    "        \n",
    "    @property\n",
    "    def array(self):\n",
    "        # |0..0><0| + (|10..> + |01..> + ...)<1|\n",
    "        n = len(self.cod)\n",
    "        array = np.zeros((2**n, 2))\n",
    "        array[0][0] = 1 # top row |00..>\n",
    "        for j in one_hots(n):\n",
    "            array[int(j, 2)][1] = 1 #1 for every index of 1 one hot index\n",
    "        \n",
    "        #print(len(self.dom), len(self.cod), \"\\n\", array)\n",
    "        \n",
    "        array = np.zeros(2 ** (1 + n))\n",
    "        array[0] = 1.0\n",
    "        for j in one_hots(n):\n",
    "\n",
    "            array[2**n + int(j, 2)] = 1\n",
    "        \n",
    "        return Tensor(Dim(2), Dim(2)**n, array)\n",
    "    \n",
    "W(3).draw()   "
   ]
  },
  {
   "cell_type": "code",
   "execution_count": 9,
   "id": "45648c30",
   "metadata": {},
   "outputs": [
    {
     "name": "stdout",
     "output_type": "stream",
     "text": [
      "2\n",
      "1\n"
     ]
    },
    {
     "data": {
      "text/plain": [
       "(array([1., 0., 0., 0., 0., 1., 1., 0.]),\n",
       " array([[1., 0.],\n",
       "        [0., 0.],\n",
       "        [0., 1.],\n",
       "        [1., 0.]]),\n",
       " array([[1., 0., 0., 0.],\n",
       "        [0., 1., 1., 0.]]))"
      ]
     },
     "execution_count": 9,
     "metadata": {},
     "output_type": "execute_result"
    }
   ],
   "source": [
    "n = 2\n",
    "array = np.zeros(2 ** (1 + n))\n",
    "array[0] = 1.0\n",
    "for j in one_hots(n):\n",
    "    print(int(j, 2))\n",
    "    array[2**n + int(j, 2)] = 1\n",
    "\n",
    ", array.reshape(2, 2**n)"
   ]
  },
  {
   "cell_type": "code",
   "execution_count": 8,
   "id": "4b72c7e1",
   "metadata": {},
   "outputs": [
    {
     "data": {
      "text/plain": [
       "array([[1., 0.],\n",
       "       [0., 1.],\n",
       "       [0., 1.],\n",
       "       [0., 0.],\n",
       "       [0., 1.],\n",
       "       [0., 0.],\n",
       "       [0., 0.],\n",
       "       [0., 0.]])"
      ]
     },
     "execution_count": 8,
     "metadata": {},
     "output_type": "execute_result"
    }
   ],
   "source": [
    "eval(W(3))"
   ]
  },
  {
   "cell_type": "code",
   "execution_count": 12,
   "id": "428b259a",
   "metadata": {},
   "outputs": [
    {
     "name": "stdout",
     "output_type": "stream",
     "text": [
      "8\n",
      "4\n",
      "2\n",
      "1\n"
     ]
    },
    {
     "data": {
      "text/plain": [
       "(array([1., 0., 0., 1., 0., 1., 0., 0., 0., 1., 0., 0., 0., 0., 0., 0., 0.,\n",
       "        1., 0., 0., 0., 0., 0., 0., 0., 0., 0., 0., 0., 0., 0., 0.]),\n",
       " array([[1., 0.],\n",
       "        [0., 1.],\n",
       "        [0., 1.],\n",
       "        [0., 0.],\n",
       "        [0., 1.],\n",
       "        [0., 0.],\n",
       "        [0., 0.],\n",
       "        [0., 0.],\n",
       "        [0., 1.],\n",
       "        [0., 0.],\n",
       "        [0., 0.],\n",
       "        [0., 0.],\n",
       "        [0., 0.],\n",
       "        [0., 0.],\n",
       "        [0., 0.],\n",
       "        [0., 0.]]))"
      ]
     },
     "execution_count": 12,
     "metadata": {},
     "output_type": "execute_result"
    }
   ],
   "source": [
    "n = 4\n",
    "array = np.zeros(2 ** (1 + n))\n",
    "array[0] = 1.0\n",
    "for j in one_hots(n):\n",
    "    print(int(j, 2))\n",
    "    array[2 * int(j, 2) + 1] = 1\n",
    "    \n",
    "array, array.reshape(2**n, 2)"
   ]
  },
  {
   "cell_type": "markdown",
   "id": "08bed156",
   "metadata": {},
   "source": [
    "## Rules\n",
    "\n",
    "### W swaps"
   ]
  },
  {
   "cell_type": "code",
   "execution_count": 9,
   "id": "759885b5",
   "metadata": {},
   "outputs": [
    {
     "data": {
      "text/plain": [
       "True"
      ]
     },
     "execution_count": 9,
     "metadata": {},
     "output_type": "execute_result"
    }
   ],
   "source": [
    "# how do swap diagramatically?\n",
    "swap = np.array([[1, 0, 0, 0], [0, 0, 1, 0], [0, 1, 0, 0], [0, 0, 0, 1]])\n",
    "(swap @ eval(W(2)) == eval(W(2))).all()"
   ]
  },
  {
   "cell_type": "markdown",
   "id": "6a08ce49",
   "metadata": {},
   "source": [
    "### W fusion"
   ]
  },
  {
   "cell_type": "code",
   "execution_count": 10,
   "id": "a46c8808",
   "metadata": {},
   "outputs": [
    {
     "data": {
      "image/png": "[encoded data removed]",
      "text/plain": [
       "<Figure size 432x288 with 1 Axes>"
      ]
     },
     "metadata": {},
     "output_type": "display_data"
    }
   ],
   "source": [
    "d = W(2) >> Id(1) @ W(2)\n",
    "d.draw()"
   ]
  },
  {
   "cell_type": "code",
   "execution_count": 11,
   "id": "26cad6ef",
   "metadata": {},
   "outputs": [
    {
     "data": {
      "image/png": "[encoded data removed]",
      "text/plain": [
       "<Figure size 432x288 with 1 Axes>"
      ]
     },
     "metadata": {},
     "output_type": "display_data"
    }
   ],
   "source": [
    "d2 = W(2) >> W(2) @ Id(1)\n",
    "d2.draw()"
   ]
  },
  {
   "cell_type": "code",
   "execution_count": 12,
   "id": "7c3d41e8",
   "metadata": {},
   "outputs": [
    {
     "data": {
      "text/plain": [
       "array([[1., 0.],\n",
       "       [0., 1.],\n",
       "       [0., 1.],\n",
       "       [0., 0.],\n",
       "       [0., 1.],\n",
       "       [0., 0.],\n",
       "       [0., 0.],\n",
       "       [0., 0.]])"
      ]
     },
     "execution_count": 12,
     "metadata": {},
     "output_type": "execute_result"
    }
   ],
   "source": [
    "eval(W(3))"
   ]
  },
  {
   "cell_type": "code",
   "execution_count": 13,
   "id": "07f7ce4a",
   "metadata": {},
   "outputs": [
    {
     "data": {
      "text/plain": [
       "array([[1., 0.],\n",
       "       [0., 1.],\n",
       "       [0., 1.],\n",
       "       [0., 0.],\n",
       "       [0., 1.],\n",
       "       [0., 0.],\n",
       "       [0., 0.],\n",
       "       [0., 0.]])"
      ]
     },
     "execution_count": 13,
     "metadata": {},
     "output_type": "execute_result"
    }
   ],
   "source": [
    "eval(d)"
   ]
  },
  {
   "cell_type": "code",
   "execution_count": 14,
   "id": "06e6d4df",
   "metadata": {},
   "outputs": [
    {
     "data": {
      "text/plain": [
       "array([[1., 0.],\n",
       "       [0., 1.],\n",
       "       [0., 1.],\n",
       "       [0., 0.],\n",
       "       [0., 1.],\n",
       "       [0., 0.],\n",
       "       [0., 0.],\n",
       "       [0., 0.]])"
      ]
     },
     "execution_count": 14,
     "metadata": {},
     "output_type": "execute_result"
    }
   ],
   "source": [
    "eval(d2)"
   ]
  },
  {
   "cell_type": "code",
   "execution_count": 15,
   "id": "cbe02ef0",
   "metadata": {},
   "outputs": [
    {
     "data": {
      "text/plain": [
       "True"
      ]
     },
     "execution_count": 15,
     "metadata": {},
     "output_type": "execute_result"
    }
   ],
   "source": [
    "(eval(d) == eval(d2)).all()"
   ]
  },
  {
   "cell_type": "code",
   "execution_count": null,
   "id": "661f791a",
   "metadata": {},
   "outputs": [],
   "source": []
  }
 ],
 "metadata": {
  "kernelspec": {
   "display_name": "Python 3 (ipykernel)",
   "language": "python",
   "name": "python3"
  },
  "language_info": {
   "codemirror_mode": {
    "name": "ipython",
    "version": 3
   },
   "file_extension": ".py",
   "mimetype": "text/x-python",
   "name": "python",
   "nbconvert_exporter": "python",
   "pygments_lexer": "ipython3",
   "version": "3.10.6"
  }
 },
 "nbformat": 4,
 "nbformat_minor": 5
}
